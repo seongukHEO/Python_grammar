{
 "cells": [
  {
   "cell_type": "code",
   "execution_count": 1,
   "id": "1ee8407d-4218-4c14-a3dc-3653a9460fd8",
   "metadata": {},
   "outputs": [],
   "source": [
    "import numpy as np\n",
    "import pandas as pd\n",
    "import matplotlib.pyplot as plt\n",
    "from sklearn.preprocessing import MinMaxScaler\n",
    "from sklearn.preprocessing import StandardScaler"
   ]
  },
  {
   "cell_type": "markdown",
   "id": "88988711-4652-4e65-9f7e-1368d1a9ef66",
   "metadata": {},
   "source": [
    "그니까 x를 float 형태로 뽑은다음 matrix 형태로 바꿔준다"
   ]
  },
  {
   "cell_type": "code",
   "execution_count": 8,
   "id": "438c6678-aade-4ca2-98af-6e5b30fa8e05",
   "metadata": {},
   "outputs": [
    {
     "data": {
      "text/plain": [
       "array([[-3.],\n",
       "       [-2.],\n",
       "       [-1.],\n",
       "       [ 0.],\n",
       "       [ 1.],\n",
       "       [ 2.],\n",
       "       [ 3.],\n",
       "       [ 4.],\n",
       "       [ 5.],\n",
       "       [20.]])"
      ]
     },
     "execution_count": 8,
     "metadata": {},
     "output_type": "execute_result"
    }
   ],
   "source": [
    "x = np.arange(-3, 6).astype(\"float32\").reshape(-1, 1)\n",
    "x = np.vstack([x, [20]])\n",
    "x"
   ]
  },
  {
   "cell_type": "code",
   "execution_count": 6,
   "id": "8dfe5c4d-efee-4e25-88aa-02d6875b95fd",
   "metadata": {},
   "outputs": [
    {
     "ename": "TypeError",
     "evalue": "'tuple' object is not callable",
     "output_type": "error",
     "traceback": [
      "\u001b[0;31m---------------------------------------------------------------------------\u001b[0m",
      "\u001b[0;31mTypeError\u001b[0m                                 Traceback (most recent call last)",
      "Cell \u001b[0;32mIn[6], line 1\u001b[0m\n\u001b[0;32m----> 1\u001b[0m x\u001b[38;5;241m.\u001b[39mshape()\n",
      "\u001b[0;31mTypeError\u001b[0m: 'tuple' object is not callable"
     ]
    }
   ],
   "source": [
    "x.shape()"
   ]
  },
  {
   "cell_type": "code",
   "execution_count": 7,
   "id": "0715efca-e568-4955-b69b-afc74796d265",
   "metadata": {},
   "outputs": [
    {
     "data": {
      "text/plain": [
       "(9, 1)"
      ]
     },
     "execution_count": 7,
     "metadata": {},
     "output_type": "execute_result"
    }
   ],
   "source": [
    "x.shape"
   ]
  },
  {
   "cell_type": "markdown",
   "id": "e202cfc4-417f-402a-b210-e92905f769e0",
   "metadata": {},
   "source": [
    "#Simple Scaling --> 이미지 처리할 때 자주 사용함"
   ]
  },
  {
   "cell_type": "code",
   "execution_count": 9,
   "id": "841d3856-b940-4f69-a80a-19fafefff773",
   "metadata": {},
   "outputs": [
    {
     "data": {
      "text/plain": [
       "array([[-0.15],\n",
       "       [-0.1 ],\n",
       "       [-0.05],\n",
       "       [ 0.  ],\n",
       "       [ 0.05],\n",
       "       [ 0.1 ],\n",
       "       [ 0.15],\n",
       "       [ 0.2 ],\n",
       "       [ 0.25],\n",
       "       [ 1.  ]])"
      ]
     },
     "execution_count": 9,
     "metadata": {},
     "output_type": "execute_result"
    }
   ],
   "source": [
    "x_simple = x / x.max()\n",
    "x_simple"
   ]
  },
  {
   "cell_type": "markdown",
   "id": "64b8b9a3-e2c3-4224-ba8a-6d365bf7c970",
   "metadata": {},
   "source": [
    "#Min Max Scaling"
   ]
  },
  {
   "cell_type": "code",
   "execution_count": 11,
   "id": "b50d2ce7-9bbc-47dc-bd3d-e79703a4aa39",
   "metadata": {},
   "outputs": [
    {
     "data": {
      "text/plain": [
       "array([[0.        ],\n",
       "       [0.04347826],\n",
       "       [0.08695652],\n",
       "       [0.13043478],\n",
       "       [0.17391304],\n",
       "       [0.2173913 ],\n",
       "       [0.26086957],\n",
       "       [0.30434783],\n",
       "       [0.34782609],\n",
       "       [1.        ]])"
      ]
     },
     "execution_count": 11,
     "metadata": {},
     "output_type": "execute_result"
    }
   ],
   "source": [
    "x_minmax = ((x-x.min()) / (x.max() - x.min()))\n",
    "x_minmax"
   ]
  },
  {
   "cell_type": "code",
   "execution_count": 12,
   "id": "428cf8ee-659b-4725-98d5-f1d7f7c784c3",
   "metadata": {},
   "outputs": [
    {
     "data": {
      "text/plain": [
       "array([[0.        ],\n",
       "       [0.04347826],\n",
       "       [0.08695652],\n",
       "       [0.13043478],\n",
       "       [0.17391304],\n",
       "       [0.2173913 ],\n",
       "       [0.26086957],\n",
       "       [0.30434783],\n",
       "       [0.34782609],\n",
       "       [1.        ]])"
      ]
     },
     "execution_count": 12,
     "metadata": {},
     "output_type": "execute_result"
    }
   ],
   "source": [
    "sc = MinMaxScaler()\n",
    "x_minmax2 = sc.fit_transform(x)\n",
    "x_minmax2"
   ]
  },
  {
   "cell_type": "markdown",
   "id": "51efa647-a61c-44e0-b0e5-11433951c529",
   "metadata": {},
   "source": [
    "위의 두 값은 같다"
   ]
  },
  {
   "cell_type": "markdown",
   "id": "67947a99-114b-4816-8281-af12ace95911",
   "metadata": {},
   "source": [
    "#Standard Scaler"
   ]
  },
  {
   "cell_type": "code",
   "execution_count": 15,
   "id": "e46b82ab-9a1b-487f-ac6b-a753c87f0f53",
   "metadata": {},
   "outputs": [
    {
     "data": {
      "text/plain": [
       "array([[-0.95099461],\n",
       "       [-0.78980908],\n",
       "       [-0.62862356],\n",
       "       [-0.46743803],\n",
       "       [-0.3062525 ],\n",
       "       [-0.14506697],\n",
       "       [ 0.01611855],\n",
       "       [ 0.17730408],\n",
       "       [ 0.33848961],\n",
       "       [ 2.75627252]])"
      ]
     },
     "execution_count": 15,
     "metadata": {},
     "output_type": "execute_result"
    }
   ],
   "source": [
    "x_standard = (x - x.mean()) / x.std()\n",
    "x_standard"
   ]
  },
  {
   "cell_type": "code",
   "execution_count": 16,
   "id": "ab68d639-ffb2-4610-a6e9-38fd07fc3193",
   "metadata": {},
   "outputs": [],
   "source": [
    "sc = StandardScaler()"
   ]
  },
  {
   "cell_type": "code",
   "execution_count": 18,
   "id": "3745cfff-0878-4580-86e4-58eaac9563ea",
   "metadata": {},
   "outputs": [
    {
     "data": {
      "text/plain": [
       "array([[-0.95099461],\n",
       "       [-0.78980908],\n",
       "       [-0.62862356],\n",
       "       [-0.46743803],\n",
       "       [-0.3062525 ],\n",
       "       [-0.14506697],\n",
       "       [ 0.01611855],\n",
       "       [ 0.17730408],\n",
       "       [ 0.33848961],\n",
       "       [ 2.75627252]])"
      ]
     },
     "execution_count": 18,
     "metadata": {},
     "output_type": "execute_result"
    }
   ],
   "source": [
    "x_standard2 = sc.fit_transform(x)\n",
    "x_standard2"
   ]
  },
  {
   "cell_type": "markdown",
   "id": "0737a3f7-b7f8-4fa3-8df0-96e84ac77000",
   "metadata": {},
   "source": [
    "위의 두 값도 같음 방식이 다를 뿐"
   ]
  },
  {
   "cell_type": "code",
   "execution_count": 22,
   "id": "1498f008-7cad-445c-b2ae-755d50c0dc78",
   "metadata": {},
   "outputs": [
    {
     "data": {
      "text/plain": [
       "Text(0.5, 1.0, 'StandardScaling Data')"
      ]
     },
     "execution_count": 22,
     "metadata": {},
     "output_type": "execute_result"
    },
    {
     "data": {
      "image/png": "[encoded data removed]",
      "text/plain": [
       "<Figure size 1400x400 with 4 Axes>"
      ]
     },
     "metadata": {},
     "output_type": "display_data"
    }
   ],
   "source": [
    "plt.figure(figsize=(14, 4))\n",
    "plt.subplot(1, 4, 1)\n",
    "plt.hist(x, bins=50)\n",
    "plt.title(\"original Data\")\n",
    "plt.subplot(1, 4, 2)\n",
    "plt.hist(x_simple, bins=50)\n",
    "plt.title(\"SimpleScaling Data\")\n",
    "plt.subplot(1, 4, 3)\n",
    "plt.hist(x_minmax, bins=50)\n",
    "plt.title(\"MinMaxScaling Data\")\n",
    "plt.subplot(1, 4, 4)\n",
    "plt.hist(x_standard, bins=50)\n",
    "plt.title(\"StandardScaling Data\")"
   ]
  },
  {
   "cell_type": "markdown",
   "id": "a0b37b85-5bdc-46a4-9087-c9b3e9519f8e",
   "metadata": {},
   "source": [
    "이걸 하는 이유는 처음 original의 경우 -3부터 20까지 있지만 simpleScaling이나 minmaxScaling, StandardScaling을 활용하면\n",
    "해당 범위를 줄일 수 있기 때문"
   ]
  },
  {
   "cell_type": "code",
   "execution_count": null,
   "id": "80b080e0-84c5-47f8-a1eb-4205eaa08159",
   "metadata": {},
   "outputs": [],
   "source": []
  }
 ],
 "metadata": {
  "kernelspec": {
   "display_name": "Python 3 (ipykernel)",
   "language": "python",
   "name": "python3"
  },
  "language_info": {
   "codemirror_mode": {
    "name": "ipython",
    "version": 3
   },
   "file_extension": ".py",
   "mimetype": "text/x-python",
   "name": "python",
   "nbconvert_exporter": "python",
   "pygments_lexer": "ipython3",
   "version": "3.12.7"
  }
 },
 "nbformat": 4,
 "nbformat_minor": 5
}
