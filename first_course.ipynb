{
 "cells": [
  {
   "cell_type": "code",
   "execution_count": 1,
   "id": "59310606-d855-4a31-b406-a8dabbda7d0b",
   "metadata": {},
   "outputs": [
    {
     "name": "stdout",
     "output_type": "stream",
     "text": [
      "/Users/seongukheo/Desktop/MyMLProject\n"
     ]
    }
   ],
   "source": [
    "import os\n",
    "print(os.getcwd())  # 현재 작업 디렉토리 출력\n"
   ]
  },
  {
   "cell_type": "code",
   "execution_count": 2,
   "id": "fc25e010-973a-4469-9362-5b34676d8a10",
   "metadata": {},
   "outputs": [
    {
     "data": {
      "text/plain": [
       "2"
      ]
     },
     "execution_count": 2,
     "metadata": {},
     "output_type": "execute_result"
    }
   ],
   "source": [
    "1 + 1"
   ]
  },
  {
   "cell_type": "code",
   "execution_count": 3,
   "id": "e908a113-b4e2-4335-b505-7594abed4fd2",
   "metadata": {},
   "outputs": [],
   "source": [
    "a, b, c = 1, 2, 3"
   ]
  },
  {
   "cell_type": "code",
   "execution_count": 4,
   "id": "ec7c811f-2e34-41df-b1f7-3072d13268e1",
   "metadata": {},
   "outputs": [],
   "source": [
    "a,b,c = 1,2,3"
   ]
  },
  {
   "cell_type": "code",
   "execution_count": 5,
   "id": "8f17df0b-4d4e-4d63-845c-4a217dda533b",
   "metadata": {},
   "outputs": [
    {
     "name": "stdout",
     "output_type": "stream",
     "text": [
      "1 2 3\n"
     ]
    }
   ],
   "source": [
    "print(a,b,c)"
   ]
  },
  {
   "cell_type": "code",
   "execution_count": 6,
   "id": "a57088e8-edca-445f-b9ca-8efb53bb7f0c",
   "metadata": {},
   "outputs": [
    {
     "data": {
      "text/plain": [
       "6"
      ]
     },
     "execution_count": 6,
     "metadata": {},
     "output_type": "execute_result"
    }
   ],
   "source": [
    "x=2\n",
    "y=3\n",
    "x*y"
   ]
  },
  {
   "cell_type": "code",
   "execution_count": 7,
   "id": "73700320-1cfb-4c41-b817-69a4279c7018",
   "metadata": {},
   "outputs": [
    {
     "name": "stdout",
     "output_type": "stream",
     "text": [
      "My name is seongUk\n"
     ]
    }
   ],
   "source": [
    "x = 'My name is seongUk'\n",
    "print(x)"
   ]
  },
  {
   "cell_type": "code",
   "execution_count": 8,
   "id": "0c5231df-37d0-4cf4-b7ab-6de9cf6835d2",
   "metadata": {},
   "outputs": [
    {
     "name": "stdout",
     "output_type": "stream",
     "text": [
      "My name is {x}\n"
     ]
    }
   ],
   "source": [
    "x = 'seongUk'\n",
    "print(\"My name is {x}\")"
   ]
  },
  {
   "cell_type": "code",
   "execution_count": 9,
   "id": "fbd080f9-49ec-4976-a787-65a4dc682c45",
   "metadata": {},
   "outputs": [
    {
     "name": "stdout",
     "output_type": "stream",
     "text": [
      "My name is ${x}\n"
     ]
    }
   ],
   "source": [
    "print(\"My name is ${x}\")"
   ]
  },
  {
   "cell_type": "code",
   "execution_count": 10,
   "id": "c6a50e0c-28dc-4ea4-8c97-6510d9a82d9b",
   "metadata": {},
   "outputs": [
    {
     "data": {
      "text/plain": [
       "str"
      ]
     },
     "execution_count": 10,
     "metadata": {},
     "output_type": "execute_result"
    }
   ],
   "source": [
    "data = 'HelloWorld'\n",
    "type(data)"
   ]
  },
  {
   "cell_type": "code",
   "execution_count": 11,
   "id": "1ed04bd5-ac51-4910-b2d3-781de85b2d60",
   "metadata": {},
   "outputs": [
    {
     "data": {
      "text/plain": [
       "'H'"
      ]
     },
     "execution_count": 11,
     "metadata": {},
     "output_type": "execute_result"
    }
   ],
   "source": [
    "data[0]"
   ]
  },
  {
   "cell_type": "code",
   "execution_count": 12,
   "id": "a8ecb178-5ccb-4b33-8295-51bc8833e9c3",
   "metadata": {},
   "outputs": [
    {
     "data": {
      "text/plain": [
       "'d'"
      ]
     },
     "execution_count": 12,
     "metadata": {},
     "output_type": "execute_result"
    }
   ],
   "source": [
    "data[-1]"
   ]
  },
  {
   "cell_type": "code",
   "execution_count": 13,
   "id": "c02fd7a6-94cb-40f6-9623-6ad005e3ec1d",
   "metadata": {},
   "outputs": [
    {
     "data": {
      "text/plain": [
       "'l'"
      ]
     },
     "execution_count": 13,
     "metadata": {},
     "output_type": "execute_result"
    }
   ],
   "source": [
    "data[3]"
   ]
  },
  {
   "cell_type": "code",
   "execution_count": 14,
   "id": "e18f04cd-4a5b-4ede-8793-21e8892dbb70",
   "metadata": {},
   "outputs": [
    {
     "data": {
      "text/plain": [
       "'HelloW'"
      ]
     },
     "execution_count": 14,
     "metadata": {},
     "output_type": "execute_result"
    }
   ],
   "source": [
    "data[0:6]"
   ]
  },
  {
   "cell_type": "code",
   "execution_count": 15,
   "id": "2608eae9-d8e2-4f10-b131-2d68c900dda4",
   "metadata": {
    "scrolled": true
   },
   "outputs": [
    {
     "data": {
      "text/plain": [
       "'oWorld'"
      ]
     },
     "execution_count": 15,
     "metadata": {},
     "output_type": "execute_result"
    }
   ],
   "source": [
    "data[4:10]"
   ]
  },
  {
   "cell_type": "code",
   "execution_count": 17,
   "id": "c73218dc-fa11-459e-8bd5-9982ed7b11d0",
   "metadata": {},
   "outputs": [],
   "source": [
    "x = 'programming'"
   ]
  },
  {
   "cell_type": "raw",
   "id": "84a42632-698e-4628-b7b9-93fd7e8fe1f8",
   "metadata": {},
   "source": [
    "print(x)"
   ]
  },
  {
   "cell_type": "code",
   "execution_count": 18,
   "id": "3e081d57-1534-4d43-99e7-4434bb075de1",
   "metadata": {},
   "outputs": [
    {
     "name": "stdout",
     "output_type": "stream",
     "text": [
      "programming\n"
     ]
    }
   ],
   "source": [
    "print(x)"
   ]
  },
  {
   "cell_type": "code",
   "execution_count": 19,
   "id": "150e7bfc-ba26-4169-b980-90bef3c3d296",
   "metadata": {},
   "outputs": [
    {
     "name": "stdout",
     "output_type": "stream",
     "text": [
      "My name is :{name}, :{age}years old\n"
     ]
    }
   ],
   "source": [
    "name = 'seonguk'\n",
    "age = '25'\n",
    "print(\"My name is :{name}, :{age}years old\")"
   ]
  },
  {
   "cell_type": "code",
   "execution_count": 20,
   "id": "392187dd-f6d1-41a0-a590-c537612d99cb",
   "metadata": {},
   "outputs": [
    {
     "name": "stdout",
     "output_type": "stream",
     "text": [
      "My name is {name}, {age}years old\n"
     ]
    },
    {
     "ename": "AttributeError",
     "evalue": "'NoneType' object has no attribute 'format'",
     "output_type": "error",
     "traceback": [
      "\u001b[0;31m---------------------------------------------------------------------------\u001b[0m",
      "\u001b[0;31mAttributeError\u001b[0m                            Traceback (most recent call last)",
      "Cell \u001b[0;32mIn[20], line 1\u001b[0m\n\u001b[0;32m----> 1\u001b[0m \u001b[38;5;28mprint\u001b[39m(\u001b[38;5;124m\"\u001b[39m\u001b[38;5;124mMy name is \u001b[39m\u001b[38;5;132;01m{name}\u001b[39;00m\u001b[38;5;124m, \u001b[39m\u001b[38;5;132;01m{age}\u001b[39;00m\u001b[38;5;124myears old\u001b[39m\u001b[38;5;124m\"\u001b[39m)\u001b[38;5;241m.\u001b[39mformat(name, age)\n",
      "\u001b[0;31mAttributeError\u001b[0m: 'NoneType' object has no attribute 'format'"
     ]
    }
   ],
   "source": [
    "print(\"My name is {name}, {age}years old\").format(name, age)"
   ]
  },
  {
   "cell_type": "code",
   "execution_count": 21,
   "id": "c9843b40-d03c-4d98-91e0-35b1e55e64fc",
   "metadata": {},
   "outputs": [
    {
     "name": "stdout",
     "output_type": "stream",
     "text": [
      "My name is {}, {}years old\n"
     ]
    },
    {
     "ename": "AttributeError",
     "evalue": "'NoneType' object has no attribute 'format'",
     "output_type": "error",
     "traceback": [
      "\u001b[0;31m---------------------------------------------------------------------------\u001b[0m",
      "\u001b[0;31mAttributeError\u001b[0m                            Traceback (most recent call last)",
      "Cell \u001b[0;32mIn[21], line 1\u001b[0m\n\u001b[0;32m----> 1\u001b[0m \u001b[38;5;28mprint\u001b[39m(\u001b[38;5;124m\"\u001b[39m\u001b[38;5;124mMy name is \u001b[39m\u001b[38;5;132;01m{}\u001b[39;00m\u001b[38;5;124m, \u001b[39m\u001b[38;5;132;01m{}\u001b[39;00m\u001b[38;5;124myears old\u001b[39m\u001b[38;5;124m\"\u001b[39m)\u001b[38;5;241m.\u001b[39mformat(name, age)\n",
      "\u001b[0;31mAttributeError\u001b[0m: 'NoneType' object has no attribute 'format'"
     ]
    }
   ],
   "source": [
    "print(\"My name is {}, {}years old\").format(name, age)"
   ]
  },
  {
   "cell_type": "code",
   "execution_count": 22,
   "id": "d7169e27-3ffe-453c-b333-691efabe6e19",
   "metadata": {},
   "outputs": [
    {
     "name": "stdout",
     "output_type": "stream",
     "text": [
      "My name is seonguk, 25years old\n"
     ]
    }
   ],
   "source": [
    "print(\"My name is {}, {}years old\".format(name, age))"
   ]
  },
  {
   "cell_type": "code",
   "execution_count": 23,
   "id": "3eaa1394-e0c0-4c61-bf38-d665a3c0511a",
   "metadata": {},
   "outputs": [
    {
     "data": {
      "text/plain": [
       "0.3"
      ]
     },
     "execution_count": 23,
     "metadata": {},
     "output_type": "execute_result"
    }
   ],
   "source": [
    "my_list = [1, 2, \"hello\", 0.3]\n",
    "my_list[3]"
   ]
  },
  {
   "cell_type": "code",
   "execution_count": 24,
   "id": "1a3adf05-ddd0-4edb-81e2-bf195de0fdd9",
   "metadata": {},
   "outputs": [
    {
     "data": {
      "text/plain": [
       "[1, 2]"
      ]
     },
     "execution_count": 24,
     "metadata": {},
     "output_type": "execute_result"
    }
   ],
   "source": [
    "my_list[0:2]"
   ]
  },
  {
   "cell_type": "code",
   "execution_count": 25,
   "id": "e55d7c67-cb4e-43f2-b259-8ac9d6278ab1",
   "metadata": {},
   "outputs": [
    {
     "name": "stderr",
     "output_type": "stream",
     "text": [
      "<>:2: SyntaxWarning: 'int' object is not subscriptable; perhaps you missed a comma?\n",
      "<>:2: SyntaxWarning: 'int' object is not subscriptable; perhaps you missed a comma?\n",
      "/var/folders/b2/5dj5klnj5m93mlcrts9bn2s40000gn/T/ipykernel_4391/3306814254.py:2: SyntaxWarning: 'int' object is not subscriptable; perhaps you missed a comma?\n",
      "  seong[1[2]]\n",
      "/var/folders/b2/5dj5klnj5m93mlcrts9bn2s40000gn/T/ipykernel_4391/3306814254.py:2: SyntaxWarning: 'int' object is not subscriptable; perhaps you missed a comma?\n",
      "  seong[1[2]]\n",
      "/var/folders/b2/5dj5klnj5m93mlcrts9bn2s40000gn/T/ipykernel_4391/3306814254.py:2: SyntaxWarning: 'int' object is not subscriptable; perhaps you missed a comma?\n",
      "  seong[1[2]]\n",
      "/var/folders/b2/5dj5klnj5m93mlcrts9bn2s40000gn/T/ipykernel_4391/3306814254.py:2: SyntaxWarning: 'int' object is not subscriptable; perhaps you missed a comma?\n",
      "  seong[1[2]]\n",
      "/var/folders/b2/5dj5klnj5m93mlcrts9bn2s40000gn/T/ipykernel_4391/3306814254.py:2: SyntaxWarning: 'int' object is not subscriptable; perhaps you missed a comma?\n",
      "  seong[1[2]]\n",
      "/var/folders/b2/5dj5klnj5m93mlcrts9bn2s40000gn/T/ipykernel_4391/3306814254.py:2: SyntaxWarning: 'int' object is not subscriptable; perhaps you missed a comma?\n",
      "  seong[1[2]]\n",
      "/var/folders/b2/5dj5klnj5m93mlcrts9bn2s40000gn/T/ipykernel_4391/3306814254.py:2: SyntaxWarning: 'int' object is not subscriptable; perhaps you missed a comma?\n",
      "  seong[1[2]]\n"
     ]
    },
    {
     "ename": "TypeError",
     "evalue": "'int' object is not subscriptable",
     "output_type": "error",
     "traceback": [
      "\u001b[0;31m---------------------------------------------------------------------------\u001b[0m",
      "\u001b[0;31mTypeError\u001b[0m                                 Traceback (most recent call last)",
      "Cell \u001b[0;32mIn[25], line 2\u001b[0m\n\u001b[1;32m      1\u001b[0m seong \u001b[38;5;241m=\u001b[39m [\u001b[38;5;241m1\u001b[39m, [\u001b[38;5;241m2\u001b[39m, \u001b[38;5;241m3\u001b[39m, \u001b[38;5;241m4\u001b[39m], \u001b[38;5;124m\"\u001b[39m\u001b[38;5;124mhello\u001b[39m\u001b[38;5;124m\"\u001b[39m, \u001b[38;5;241m0.4\u001b[39m]\n\u001b[0;32m----> 2\u001b[0m seong[\u001b[38;5;241m1\u001b[39m[\u001b[38;5;241m2\u001b[39m]]\n",
      "\u001b[0;31mTypeError\u001b[0m: 'int' object is not subscriptable"
     ]
    }
   ],
   "source": [
    "seong = [1, [2, 3, 4], \"hello\", 0.4]\n",
    "seong[1[2]]"
   ]
  },
  {
   "cell_type": "code",
   "execution_count": 26,
   "id": "e92a13fe-1c4b-41f4-807b-016a6e9bb9a1",
   "metadata": {},
   "outputs": [
    {
     "data": {
      "text/plain": [
       "[2, 3, 4]"
      ]
     },
     "execution_count": 26,
     "metadata": {},
     "output_type": "execute_result"
    }
   ],
   "source": [
    "seong[1]"
   ]
  },
  {
   "cell_type": "code",
   "execution_count": 27,
   "id": "0c24d606-95c1-4574-88cd-f2aee7ee84d4",
   "metadata": {},
   "outputs": [
    {
     "data": {
      "text/plain": [
       "3"
      ]
     },
     "execution_count": 27,
     "metadata": {},
     "output_type": "execute_result"
    }
   ],
   "source": [
    "seong[1][1]"
   ]
  },
  {
   "cell_type": "code",
   "execution_count": 28,
   "id": "87e7622d-2ca6-4212-8e43-e91d19235d00",
   "metadata": {},
   "outputs": [],
   "source": [
    "seong.append(\"4444\")"
   ]
  },
  {
   "cell_type": "code",
   "execution_count": 29,
   "id": "b0f5af57-2f3d-4915-bf90-0ff522266f56",
   "metadata": {},
   "outputs": [
    {
     "data": {
      "text/plain": [
       "[1, [2, 3, 4], 'hello', 0.4, '4444']"
      ]
     },
     "execution_count": 29,
     "metadata": {},
     "output_type": "execute_result"
    }
   ],
   "source": [
    "seong"
   ]
  },
  {
   "cell_type": "code",
   "execution_count": 30,
   "id": "fda8d638-baaa-4aa1-bcd9-3dde51d6e65e",
   "metadata": {},
   "outputs": [
    {
     "data": {
      "text/plain": [
       "5"
      ]
     },
     "execution_count": 30,
     "metadata": {},
     "output_type": "execute_result"
    }
   ],
   "source": [
    "len(seong)"
   ]
  },
  {
   "cell_type": "code",
   "execution_count": 31,
   "id": "9fc37970-8079-4252-8112-8a5e798602e3",
   "metadata": {},
   "outputs": [
    {
     "data": {
      "text/plain": [
       "3"
      ]
     },
     "execution_count": 31,
     "metadata": {},
     "output_type": "execute_result"
    }
   ],
   "source": [
    "len(seong[1])"
   ]
  },
  {
   "cell_type": "code",
   "execution_count": null,
   "id": "9fdaa1e1-79ff-4684-9863-10298f785513",
   "metadata": {},
   "outputs": [],
   "source": []
  }
 ],
 "metadata": {
  "kernelspec": {
   "display_name": "Python 3 (ipykernel)",
   "language": "python",
   "name": "python3"
  },
  "language_info": {
   "codemirror_mode": {
    "name": "ipython",
    "version": 3
   },
   "file_extension": ".py",
   "mimetype": "text/x-python",
   "name": "python",
   "nbconvert_exporter": "python",
   "pygments_lexer": "ipython3",
   "version": "3.12.7"
  }
 },
 "nbformat": 4,
 "nbformat_minor": 5
}
