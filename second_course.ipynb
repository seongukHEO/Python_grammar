{
 "cells": [
  {
   "cell_type": "markdown",
   "id": "2ca5b887-fe68-407e-aa14-a4e8fc0eadac",
   "metadata": {},
   "source": [
    "Dictionaries"
   ]
  },
  {
   "cell_type": "code",
   "execution_count": 1,
   "id": "fc25a787-58b5-4963-8b29-826b40e06cbc",
   "metadata": {},
   "outputs": [
    {
     "ename": "SyntaxError",
     "evalue": "invalid syntax (3031298547.py, line 1)",
     "output_type": "error",
     "traceback": [
      "\u001b[0;36m  Cell \u001b[0;32mIn[1], line 1\u001b[0;36m\u001b[0m\n\u001b[0;31m    d = ('key1':'item1', 'key2':'item2')\u001b[0m\n\u001b[0m               ^\u001b[0m\n\u001b[0;31mSyntaxError\u001b[0m\u001b[0;31m:\u001b[0m invalid syntax\n"
     ]
    }
   ],
   "source": [
    "d = {'key1':'item1', 'key2':'item2'}\n",
    "d['key1']"
   ]
  },
  {
   "cell_type": "code",
   "execution_count": 2,
   "id": "bbae3c5f-8f9d-4e54-8387-8a9456bed207",
   "metadata": {},
   "outputs": [
    {
     "ename": "NameError",
     "evalue": "name 'd' is not defined",
     "output_type": "error",
     "traceback": [
      "\u001b[0;31m---------------------------------------------------------------------------\u001b[0m",
      "\u001b[0;31mNameError\u001b[0m                                 Traceback (most recent call last)",
      "Cell \u001b[0;32mIn[2], line 1\u001b[0m\n\u001b[0;32m----> 1\u001b[0m d[\u001b[38;5;124m'\u001b[39m\u001b[38;5;124mkey1\u001b[39m\u001b[38;5;124m'\u001b[39m]\n",
      "\u001b[0;31mNameError\u001b[0m: name 'd' is not defined"
     ]
    }
   ],
   "source": [
    "d['key1']"
   ]
  },
  {
   "cell_type": "code",
   "execution_count": 3,
   "id": "eef39b92-3634-432a-b044-2d53a34cd0f7",
   "metadata": {},
   "outputs": [
    {
     "ename": "SyntaxError",
     "evalue": "invalid syntax (492302667.py, line 1)",
     "output_type": "error",
     "traceback": [
      "\u001b[0;36m  Cell \u001b[0;32mIn[3], line 1\u001b[0;36m\u001b[0m\n\u001b[0;31m    d{'key1'}\u001b[0m\n\u001b[0m     ^\u001b[0m\n\u001b[0;31mSyntaxError\u001b[0m\u001b[0;31m:\u001b[0m invalid syntax\n"
     ]
    }
   ],
   "source": [
    "d{'key1'}"
   ]
  },
  {
   "cell_type": "code",
   "execution_count": 4,
   "id": "b318f13f-a1fb-44c5-a7a6-18e7f0372680",
   "metadata": {},
   "outputs": [
    {
     "ename": "NameError",
     "evalue": "name 'd' is not defined",
     "output_type": "error",
     "traceback": [
      "\u001b[0;31m---------------------------------------------------------------------------\u001b[0m",
      "\u001b[0;31mNameError\u001b[0m                                 Traceback (most recent call last)",
      "Cell \u001b[0;32mIn[4], line 1\u001b[0m\n\u001b[0;32m----> 1\u001b[0m d\n",
      "\u001b[0;31mNameError\u001b[0m: name 'd' is not defined"
     ]
    }
   ],
   "source": [
    "d"
   ]
  },
  {
   "cell_type": "code",
   "execution_count": 5,
   "id": "7a9811bd-a030-4463-a2a9-3e5c2a6d11e5",
   "metadata": {},
   "outputs": [],
   "source": [
    "d = {'key1':'item1', 'key2':'item2'}"
   ]
  },
  {
   "cell_type": "code",
   "execution_count": 6,
   "id": "3e34a40e-02f5-495c-bb58-c04df0f96937",
   "metadata": {},
   "outputs": [
    {
     "data": {
      "text/plain": [
       "{'key1': 'item1', 'key2': 'item2'}"
      ]
     },
     "execution_count": 6,
     "metadata": {},
     "output_type": "execute_result"
    }
   ],
   "source": [
    "d"
   ]
  },
  {
   "cell_type": "code",
   "execution_count": 7,
   "id": "49d445a7-40df-48d3-ba8c-71594984195a",
   "metadata": {},
   "outputs": [
    {
     "data": {
      "text/plain": [
       "'item1'"
      ]
     },
     "execution_count": 7,
     "metadata": {},
     "output_type": "execute_result"
    }
   ],
   "source": [
    "d['key1']"
   ]
  },
  {
   "cell_type": "code",
   "execution_count": 8,
   "id": "86523f42-37bd-4851-9d98-862ce3d3011e",
   "metadata": {},
   "outputs": [
    {
     "ename": "SyntaxError",
     "evalue": "unterminated string literal (detected at line 1) (3672090203.py, line 1)",
     "output_type": "error",
     "traceback": [
      "\u001b[0;36m  Cell \u001b[0;32mIn[8], line 1\u001b[0;36m\u001b[0m\n\u001b[0;31m    d['item1]\u001b[0m\n\u001b[0m      ^\u001b[0m\n\u001b[0;31mSyntaxError\u001b[0m\u001b[0;31m:\u001b[0m unterminated string literal (detected at line 1)\n"
     ]
    }
   ],
   "source": [
    "d['item1]"
   ]
  },
  {
   "cell_type": "code",
   "execution_count": 9,
   "id": "63396774-3e15-4a42-8163-bd4d8dac3880",
   "metadata": {},
   "outputs": [
    {
     "ename": "KeyError",
     "evalue": "'item1'",
     "output_type": "error",
     "traceback": [
      "\u001b[0;31m---------------------------------------------------------------------------\u001b[0m",
      "\u001b[0;31mKeyError\u001b[0m                                  Traceback (most recent call last)",
      "Cell \u001b[0;32mIn[9], line 1\u001b[0m\n\u001b[0;32m----> 1\u001b[0m d[\u001b[38;5;124m'\u001b[39m\u001b[38;5;124mitem1\u001b[39m\u001b[38;5;124m'\u001b[39m]\n",
      "\u001b[0;31mKeyError\u001b[0m: 'item1'"
     ]
    }
   ],
   "source": [
    "d['item1']"
   ]
  },
  {
   "cell_type": "code",
   "execution_count": 10,
   "id": "f9bf8354-4b05-41d4-a501-6863370d98a2",
   "metadata": {},
   "outputs": [
    {
     "data": {
      "text/plain": [
       "True"
      ]
     },
     "execution_count": 10,
     "metadata": {},
     "output_type": "execute_result"
    }
   ],
   "source": [
    "True"
   ]
  },
  {
   "cell_type": "markdown",
   "id": "6822c892-2047-4f86-aa22-aab4649bcbad",
   "metadata": {},
   "source": [
    "Tuples : List와 비슷하지만 값 변경 불가"
   ]
  },
  {
   "cell_type": "code",
   "execution_count": 11,
   "id": "9033ba30-73b9-4332-ae5b-c48ee2a4190a",
   "metadata": {},
   "outputs": [
    {
     "data": {
      "text/plain": [
       "(1, 2, 3)"
      ]
     },
     "execution_count": 11,
     "metadata": {},
     "output_type": "execute_result"
    }
   ],
   "source": [
    "t = (1, 2, 3)\n",
    "t"
   ]
  },
  {
   "cell_type": "code",
   "execution_count": 12,
   "id": "e0ab4212-4b22-4293-a40b-d735b901ad96",
   "metadata": {},
   "outputs": [
    {
     "ename": "SyntaxError",
     "evalue": "invalid syntax (3057392261.py, line 1)",
     "output_type": "error",
     "traceback": [
      "\u001b[0;36m  Cell \u001b[0;32mIn[12], line 1\u001b[0;36m\u001b[0m\n\u001b[0;31m    t[0] = \"\"New\u001b[0m\n\u001b[0m             ^\u001b[0m\n\u001b[0;31mSyntaxError\u001b[0m\u001b[0;31m:\u001b[0m invalid syntax\n"
     ]
    }
   ],
   "source": [
    "t[0] = \"\"New"
   ]
  },
  {
   "cell_type": "code",
   "execution_count": 13,
   "id": "3ef5afe8-d061-46ca-8942-0d5839b25399",
   "metadata": {},
   "outputs": [
    {
     "ename": "TypeError",
     "evalue": "'tuple' object does not support item assignment",
     "output_type": "error",
     "traceback": [
      "\u001b[0;31m---------------------------------------------------------------------------\u001b[0m",
      "\u001b[0;31mTypeError\u001b[0m                                 Traceback (most recent call last)",
      "Cell \u001b[0;32mIn[13], line 1\u001b[0m\n\u001b[0;32m----> 1\u001b[0m t[\u001b[38;5;241m0\u001b[39m] \u001b[38;5;241m=\u001b[39m \u001b[38;5;124m\"\u001b[39m\u001b[38;5;124mNew\u001b[39m\u001b[38;5;124m\"\u001b[39m\n",
      "\u001b[0;31mTypeError\u001b[0m: 'tuple' object does not support item assignment"
     ]
    }
   ],
   "source": [
    "t[0] = \"New\""
   ]
  },
  {
   "cell_type": "code",
   "execution_count": 14,
   "id": "0f7cd8cc-bf5b-4b30-ac1f-dd0fc1a0c6e4",
   "metadata": {},
   "outputs": [
    {
     "data": {
      "text/plain": [
       "1"
      ]
     },
     "execution_count": 14,
     "metadata": {},
     "output_type": "execute_result"
    }
   ],
   "source": [
    "t[0]"
   ]
  },
  {
   "cell_type": "markdown",
   "id": "fc918e03-9a76-4984-99ed-1cb95ce9b7b7",
   "metadata": {},
   "source": [
    "Sets : 집합이다, 중복 제거에 용이함"
   ]
  },
  {
   "cell_type": "code",
   "execution_count": 15,
   "id": "ff94a66b-9135-4fa5-8966-54ee8baee3da",
   "metadata": {},
   "outputs": [
    {
     "data": {
      "text/plain": [
       "{1, 2, 3, 4}"
      ]
     },
     "execution_count": 15,
     "metadata": {},
     "output_type": "execute_result"
    }
   ],
   "source": [
    "{1, 2, 2, 2, 3,3, 4, 2, 3, 3}"
   ]
  },
  {
   "cell_type": "markdown",
   "id": "68b911e5-4f76-4745-bf0a-ee3c494d4592",
   "metadata": {},
   "source": [
    "comparsion Operators : 비교 연산자 (대소 관계)"
   ]
  },
  {
   "cell_type": "code",
   "execution_count": 16,
   "id": "45cc42a9-6972-4f8e-a7f5-fe4c7a3d95af",
   "metadata": {},
   "outputs": [
    {
     "data": {
      "text/plain": [
       "False"
      ]
     },
     "execution_count": 16,
     "metadata": {},
     "output_type": "execute_result"
    }
   ],
   "source": [
    "1 > 2"
   ]
  },
  {
   "cell_type": "code",
   "execution_count": 17,
   "id": "8854960e-7c46-4956-b88c-55cb6e358296",
   "metadata": {},
   "outputs": [
    {
     "data": {
      "text/plain": [
       "True"
      ]
     },
     "execution_count": 17,
     "metadata": {},
     "output_type": "execute_result"
    }
   ],
   "source": [
    "1 < 3"
   ]
  },
  {
   "cell_type": "code",
   "execution_count": 18,
   "id": "6278ec21-60f3-4988-8ca2-424e6dedf340",
   "metadata": {},
   "outputs": [
    {
     "data": {
      "text/plain": [
       "False"
      ]
     },
     "execution_count": 18,
     "metadata": {},
     "output_type": "execute_result"
    }
   ],
   "source": [
    "1 == 2"
   ]
  },
  {
   "cell_type": "markdown",
   "id": "c121ff09-4e2e-48a8-bebb-96453c732565",
   "metadata": {},
   "source": [
    "Logic Operators : and, or 사용  and : 둘 다 참일 때, or : 둘 중 하나라도 참일 때, 플러터에서  && || 동일"
   ]
  },
  {
   "cell_type": "code",
   "execution_count": 19,
   "id": "f4ab9977-ad83-4f00-852e-bd8bf335367f",
   "metadata": {},
   "outputs": [
    {
     "data": {
      "text/plain": [
       "False"
      ]
     },
     "execution_count": 19,
     "metadata": {},
     "output_type": "execute_result"
    }
   ],
   "source": [
    "(1 > 2)and(2< 3)"
   ]
  },
  {
   "cell_type": "code",
   "execution_count": 20,
   "id": "c6baaa19-b0bb-4da6-bc4b-13a6b6eb7c4c",
   "metadata": {},
   "outputs": [
    {
     "data": {
      "text/plain": [
       "True"
      ]
     },
     "execution_count": 20,
     "metadata": {},
     "output_type": "execute_result"
    }
   ],
   "source": [
    "(2 < 3)and(3< 4)"
   ]
  },
  {
   "cell_type": "code",
   "execution_count": 21,
   "id": "e83c2400-6e44-456d-b004-1d52f1625b0d",
   "metadata": {},
   "outputs": [
    {
     "data": {
      "text/plain": [
       "True"
      ]
     },
     "execution_count": 21,
     "metadata": {},
     "output_type": "execute_result"
    }
   ],
   "source": [
    "(2> 3)or(4 == 4)"
   ]
  },
  {
   "cell_type": "code",
   "execution_count": 22,
   "id": "4e2e86d2-57ca-449a-8250-bb063c62cfe6",
   "metadata": {},
   "outputs": [
    {
     "data": {
      "text/plain": [
       "True"
      ]
     },
     "execution_count": 22,
     "metadata": {},
     "output_type": "execute_result"
    }
   ],
   "source": [
    "(2 == 2)or(3 == 3)"
   ]
  },
  {
   "cell_type": "markdown",
   "id": "6bd691d6-d8a9-4aaa-95c5-4cbef943f117",
   "metadata": {},
   "source": [
    "if, elif (else if), elst Statement"
   ]
  },
  {
   "cell_type": "code",
   "execution_count": 23,
   "id": "162976ed-e995-4d17-8834-64e08f48b400",
   "metadata": {},
   "outputs": [
    {
     "ename": "SyntaxError",
     "evalue": "expected ':' (248351015.py, line 1)",
     "output_type": "error",
     "traceback": [
      "\u001b[0;36m  Cell \u001b[0;32mIn[23], line 1\u001b[0;36m\u001b[0m\n\u001b[0;31m    if 1<2\u001b[0m\n\u001b[0m          ^\u001b[0m\n\u001b[0;31mSyntaxError\u001b[0m\u001b[0;31m:\u001b[0m expected ':'\n"
     ]
    }
   ],
   "source": [
    "if 1<2"
   ]
  },
  {
   "cell_type": "code",
   "execution_count": 24,
   "id": "5c59af89-3938-4f30-8466-cc7bc1a25ee5",
   "metadata": {},
   "outputs": [
    {
     "ename": "SyntaxError",
     "evalue": "expected ':' (3103964559.py, line 1)",
     "output_type": "error",
     "traceback": [
      "\u001b[0;36m  Cell \u001b[0;32mIn[24], line 1\u001b[0;36m\u001b[0m\n\u001b[0;31m    if 1<2\u001b[0m\n\u001b[0m          ^\u001b[0m\n\u001b[0;31mSyntaxError\u001b[0m\u001b[0;31m:\u001b[0m expected ':'\n"
     ]
    }
   ],
   "source": [
    "if 1<2\n",
    "  print('ok')"
   ]
  },
  {
   "cell_type": "code",
   "execution_count": 25,
   "id": "03c14b82-0398-442f-ad50-d3a6f28bc24a",
   "metadata": {},
   "outputs": [
    {
     "ename": "SyntaxError",
     "evalue": "invalid syntax (2861941230.py, line 1)",
     "output_type": "error",
     "traceback": [
      "\u001b[0;36m  Cell \u001b[0;32mIn[25], line 1\u001b[0;36m\u001b[0m\n\u001b[0;31m    if 1<2;\u001b[0m\n\u001b[0m          ^\u001b[0m\n\u001b[0;31mSyntaxError\u001b[0m\u001b[0;31m:\u001b[0m invalid syntax\n"
     ]
    }
   ],
   "source": [
    "if 1<2;\n",
    "  print('Wow')"
   ]
  },
  {
   "cell_type": "code",
   "execution_count": 26,
   "id": "eb04cf12-45ee-40b0-9665-7f00c5f0ea74",
   "metadata": {},
   "outputs": [
    {
     "name": "stdout",
     "output_type": "stream",
     "text": [
      "Wow\n"
     ]
    }
   ],
   "source": [
    "if 1 < 2:\n",
    "    print('Wow')"
   ]
  },
  {
   "cell_type": "code",
   "execution_count": 27,
   "id": "41795c28-6a66-4098-b9ac-c12c7d11c643",
   "metadata": {},
   "outputs": [
    {
     "name": "stdout",
     "output_type": "stream",
     "text": [
      "no\n"
     ]
    }
   ],
   "source": [
    "if 2 > 3:\n",
    "    print(\"real?\")\n",
    "else:\n",
    "    print(\"no\")"
   ]
  },
  {
   "cell_type": "code",
   "execution_count": 28,
   "id": "62e1b39b-408f-45a5-844f-0a1f035657e3",
   "metadata": {},
   "outputs": [
    {
     "name": "stdout",
     "output_type": "stream",
     "text": [
      "success\n"
     ]
    }
   ],
   "source": [
    "if 2 > 3 :\n",
    "    print('2')\n",
    "elif 2 == 3:\n",
    "    print('3')\n",
    "else : \n",
    "    print('success')"
   ]
  },
  {
   "cell_type": "code",
   "execution_count": 29,
   "id": "14ed2d44-1e71-4094-ba4d-1dfe14eaa407",
   "metadata": {},
   "outputs": [
    {
     "name": "stdout",
     "output_type": "stream",
     "text": [
      "yes\n"
     ]
    }
   ],
   "source": [
    "if 1> 3:\n",
    "    print('no')\n",
    "elif 2 > 1:\n",
    "    print('yes')\n",
    "else :\n",
    "    print('go')"
   ]
  },
  {
   "cell_type": "markdown",
   "id": "f1154253-4426-4c0a-a848-80e938eef615",
   "metadata": {},
   "source": [
    "for Loops : for, in 사용    ennumerate -> index 값과 같이 출현"
   ]
  },
  {
   "cell_type": "code",
   "execution_count": 32,
   "id": "e762b153-e682-4903-8584-f7d6cecfb599",
   "metadata": {},
   "outputs": [
    {
     "ename": "SyntaxError",
     "evalue": "expected ':' (2929828977.py, line 2)",
     "output_type": "error",
     "traceback": [
      "\u001b[0;36m  Cell \u001b[0;32mIn[32], line 2\u001b[0;36m\u001b[0m\n\u001b[0;31m    for item in seq\u001b[0m\n\u001b[0m                   ^\u001b[0m\n\u001b[0;31mSyntaxError\u001b[0m\u001b[0;31m:\u001b[0m expected ':'\n"
     ]
    }
   ],
   "source": [
    "seq = ['a','b','c','d']\n",
    "for item in seq"
   ]
  },
  {
   "cell_type": "code",
   "execution_count": 31,
   "id": "acc2bbb7-86b8-49bf-8fb7-10eafe49763b",
   "metadata": {},
   "outputs": [
    {
     "ename": "NameError",
     "evalue": "name 'seq' is not defined",
     "output_type": "error",
     "traceback": [
      "\u001b[0;31m---------------------------------------------------------------------------\u001b[0m",
      "\u001b[0;31mNameError\u001b[0m                                 Traceback (most recent call last)",
      "Cell \u001b[0;32mIn[31], line 1\u001b[0m\n\u001b[0;32m----> 1\u001b[0m \u001b[38;5;28;01mfor\u001b[39;00m x \u001b[38;5;129;01min\u001b[39;00m seq:\n\u001b[1;32m      2\u001b[0m     \u001b[38;5;28mprint\u001b[39m(x)\n",
      "\u001b[0;31mNameError\u001b[0m: name 'seq' is not defined"
     ]
    }
   ],
   "source": [
    "for x in seq:\n",
    "    print(x)"
   ]
  },
  {
   "cell_type": "code",
   "execution_count": 33,
   "id": "36121232-cb8b-421a-be15-a049ed0a1a2f",
   "metadata": {},
   "outputs": [
    {
     "ename": "NameError",
     "evalue": "name 'seq' is not defined",
     "output_type": "error",
     "traceback": [
      "\u001b[0;31m---------------------------------------------------------------------------\u001b[0m",
      "\u001b[0;31mNameError\u001b[0m                                 Traceback (most recent call last)",
      "Cell \u001b[0;32mIn[33], line 1\u001b[0m\n\u001b[0;32m----> 1\u001b[0m \u001b[38;5;28;01mfor\u001b[39;00m x \u001b[38;5;129;01min\u001b[39;00m seq:\n\u001b[1;32m      2\u001b[0m     \u001b[38;5;28mprint\u001b[39m(x)\n",
      "\u001b[0;31mNameError\u001b[0m: name 'seq' is not defined"
     ]
    }
   ],
   "source": [
    "for x in seq:\n",
    "    print(x)"
   ]
  },
  {
   "cell_type": "code",
   "execution_count": 35,
   "id": "c15b1862-e3b2-4dea-a69a-470965a0c236",
   "metadata": {},
   "outputs": [
    {
     "name": "stdout",
     "output_type": "stream",
     "text": [
      "a\n",
      "b\n",
      "c\n",
      "d\n",
      "e\n"
     ]
    }
   ],
   "source": [
    "seq = ['a','b','c','d','e']\n",
    "for x in seq:\n",
    "    print(x)"
   ]
  },
  {
   "cell_type": "code",
   "execution_count": null,
   "id": "f6b596d5-416f-49cc-86af-90ad7cf1b790",
   "metadata": {},
   "outputs": [],
   "source": [
    "list(enumerate(seq))"
   ]
  },
  {
   "cell_type": "code",
   "execution_count": null,
   "id": "2a7e5130-b5f6-4fee-a72a-18c1365b078c",
   "metadata": {},
   "outputs": [],
   "source": []
  },
  {
   "cell_type": "code",
   "execution_count": 1,
   "id": "fb9ed3e9-5402-4205-9079-364a96b27bfb",
   "metadata": {},
   "outputs": [
    {
     "name": "stdout",
     "output_type": "stream",
     "text": [
      "3\n"
     ]
    }
   ],
   "source": [
    "a = 1\n",
    "b = 2\n",
    "print(a + b)"
   ]
  },
  {
   "cell_type": "markdown",
   "id": "b6a6fe13-9c99-464d-8cd8-0674c03185a5",
   "metadata": {},
   "source": [
    "range -> 범위"
   ]
  },
  {
   "cell_type": "code",
   "execution_count": 2,
   "id": "929ab276-6852-4cea-802a-505df0511e27",
   "metadata": {},
   "outputs": [
    {
     "data": {
      "text/plain": [
       "range(0, 5)"
      ]
     },
     "execution_count": 2,
     "metadata": {},
     "output_type": "execute_result"
    }
   ],
   "source": [
    "range(5)"
   ]
  },
  {
   "cell_type": "code",
   "execution_count": 3,
   "id": "965a8eb8-a2e9-4af9-b033-1df96b667c60",
   "metadata": {},
   "outputs": [
    {
     "name": "stdout",
     "output_type": "stream",
     "text": [
      "0\n",
      "1\n",
      "2\n",
      "3\n",
      "4\n"
     ]
    }
   ],
   "source": [
    "for i in range(5):\n",
    "    print(i)"
   ]
  },
  {
   "cell_type": "code",
   "execution_count": 4,
   "id": "d87a3d0d-50fc-4405-b9f5-deb00ef324d1",
   "metadata": {},
   "outputs": [
    {
     "name": "stdout",
     "output_type": "stream",
     "text": [
      "0\n",
      "1\n",
      "2\n",
      "3\n",
      "4\n",
      "5\n",
      "6\n",
      "7\n",
      "8\n",
      "9\n",
      "10\n"
     ]
    }
   ],
   "source": [
    "for i in range(11):\n",
    "    print(i)"
   ]
  },
  {
   "cell_type": "markdown",
   "id": "b979a871-a8f5-4e37-89ff-c50ca663918e",
   "metadata": {},
   "source": [
    "list comprehension : 리스트를 제곱으로 하고싶을 때 (영어로 생각하면 편함)"
   ]
  },
  {
   "cell_type": "code",
   "execution_count": 5,
   "id": "5ebf2eb9-39a6-4729-a44c-e7cafe9e480b",
   "metadata": {},
   "outputs": [
    {
     "name": "stdout",
     "output_type": "stream",
     "text": [
      "[1]\n",
      "[1, 4]\n",
      "[1, 4, 9]\n",
      "[1, 4, 9, 16]\n"
     ]
    }
   ],
   "source": [
    "x = [1, 2, 3, 4]\n",
    "out = []\n",
    "for item in x:\n",
    "    out.append(item**2)\n",
    "    print(out)"
   ]
  },
  {
   "cell_type": "code",
   "execution_count": 6,
   "id": "db655949-9990-4e9f-9a50-d0c6ac7b20bd",
   "metadata": {},
   "outputs": [
    {
     "name": "stdout",
     "output_type": "stream",
     "text": [
      "[1]\n",
      "[1, 4]\n",
      "[1, 4, 9]\n",
      "[1, 4, 9, 16]\n",
      "[1, 4, 9, 16, 25]\n"
     ]
    }
   ],
   "source": [
    "x = [1, 2, 3, 4,5]\n",
    "\n",
    "out = []\n",
    "for i in x:\n",
    "    out.append(i**2)\n",
    "    print(out)"
   ]
  },
  {
   "cell_type": "code",
   "execution_count": 7,
   "id": "a334de74-562a-4c3c-a8b7-54a10f4fd7a2",
   "metadata": {},
   "outputs": [
    {
     "data": {
      "text/plain": [
       "[1, 4, 9, 16, 25]"
      ]
     },
     "execution_count": 7,
     "metadata": {},
     "output_type": "execute_result"
    }
   ],
   "source": [
    "[i**2 for i in x]"
   ]
  },
  {
   "cell_type": "markdown",
   "id": "d001ed43-ef6b-43e4-abaf-8468cbf3db4e",
   "metadata": {},
   "source": [
    "functions = def라는 이름으로 함수를 짠다"
   ]
  },
  {
   "cell_type": "code",
   "execution_count": 8,
   "id": "ca92cbb9-2a7c-4038-861d-4f4be77e2e8d",
   "metadata": {},
   "outputs": [],
   "source": [
    "def my(x, y):\n",
    "    result = x * y + 1"
   ]
  },
  {
   "cell_type": "code",
   "execution_count": 9,
   "id": "4756d9bc-8090-4604-ae55-e0cc28f02222",
   "metadata": {},
   "outputs": [
    {
     "data": {
      "text/plain": [
       "381"
      ]
     },
     "execution_count": 9,
     "metadata": {},
     "output_type": "execute_result"
    }
   ],
   "source": [
    "def my(x, y):\n",
    "    result = x * y + 1\n",
    "    return result\n",
    "\n",
    "my(19, 20)"
   ]
  },
  {
   "cell_type": "markdown",
   "id": "b8f2d325-7a71-4fc3-ace4-ae1d4a970ed4",
   "metadata": {},
   "source": [
    "lambda expressions : 람다, 익명함수"
   ]
  },
  {
   "cell_type": "code",
   "execution_count": 10,
   "id": "26026866-ac61-40e2-af10-95500c31a9b3",
   "metadata": {},
   "outputs": [],
   "source": [
    "def item2(x):\n",
    "    return x * 2"
   ]
  },
  {
   "cell_type": "code",
   "execution_count": 11,
   "id": "b3647907-592b-4d06-bebc-ba5b41d2a29a",
   "metadata": {},
   "outputs": [
    {
     "data": {
      "text/plain": [
       "200"
      ]
     },
     "execution_count": 11,
     "metadata": {},
     "output_type": "execute_result"
    }
   ],
   "source": [
    "item2(100)"
   ]
  },
  {
   "cell_type": "code",
   "execution_count": 12,
   "id": "f00a0003-c362-4060-8291-9766262dc4fd",
   "metadata": {},
   "outputs": [
    {
     "data": {
      "text/plain": [
       "100"
      ]
     },
     "execution_count": 12,
     "metadata": {},
     "output_type": "execute_result"
    }
   ],
   "source": [
    "(lambda x:x*10)(10)"
   ]
  },
  {
   "cell_type": "markdown",
   "id": "e842a91e-cdb4-4538-a718-64626cb942fc",
   "metadata": {},
   "source": [
    "map and filter : 맵핑"
   ]
  },
  {
   "cell_type": "code",
   "execution_count": 13,
   "id": "5d3c5336-296f-42e9-8b1f-e86ef6b32577",
   "metadata": {},
   "outputs": [
    {
     "ename": "NameError",
     "evalue": "name 'items2' is not defined",
     "output_type": "error",
     "traceback": [
      "\u001b[0;31m---------------------------------------------------------------------------\u001b[0m",
      "\u001b[0;31mNameError\u001b[0m                                 Traceback (most recent call last)",
      "Cell \u001b[0;32mIn[13], line 2\u001b[0m\n\u001b[1;32m      1\u001b[0m seq \u001b[38;5;241m=\u001b[39m [\u001b[38;5;241m1\u001b[39m, \u001b[38;5;241m2\u001b[39m, \u001b[38;5;241m3\u001b[39m, \u001b[38;5;241m4\u001b[39m, \u001b[38;5;241m5\u001b[39m]\n\u001b[0;32m----> 2\u001b[0m \u001b[38;5;28mlist\u001b[39m(\u001b[38;5;28mmap\u001b[39m(items2, seq))\n",
      "\u001b[0;31mNameError\u001b[0m: name 'items2' is not defined"
     ]
    }
   ],
   "source": [
    "seq = [1, 2, 3, 4, 5]\n",
    "list(map(items2, seq))"
   ]
  },
  {
   "cell_type": "code",
   "execution_count": 14,
   "id": "98ea973d-7fc2-4866-9d6d-6392babf8743",
   "metadata": {},
   "outputs": [
    {
     "ename": "NameError",
     "evalue": "name 'times2' is not defined",
     "output_type": "error",
     "traceback": [
      "\u001b[0;31m---------------------------------------------------------------------------\u001b[0m",
      "\u001b[0;31mNameError\u001b[0m                                 Traceback (most recent call last)",
      "Cell \u001b[0;32mIn[14], line 2\u001b[0m\n\u001b[1;32m      1\u001b[0m seq \u001b[38;5;241m=\u001b[39m [\u001b[38;5;241m1\u001b[39m, \u001b[38;5;241m2\u001b[39m, \u001b[38;5;241m3\u001b[39m, \u001b[38;5;241m4\u001b[39m, \u001b[38;5;241m5\u001b[39m]\n\u001b[0;32m----> 2\u001b[0m \u001b[38;5;28mlist\u001b[39m(\u001b[38;5;28mmap\u001b[39m(times2, seq))\n",
      "\u001b[0;31mNameError\u001b[0m: name 'times2' is not defined"
     ]
    }
   ],
   "source": [
    "seq = [1, 2, 3, 4, 5]\n",
    "list(map(times2, seq))"
   ]
  },
  {
   "cell_type": "code",
   "execution_count": null,
   "id": "0a440e5a-f1e0-4842-8639-39227ce3dd3e",
   "metadata": {},
   "outputs": [],
   "source": []
  },
  {
   "cell_type": "code",
   "execution_count": 15,
   "id": "09451bb5-3a1d-4e3e-ad77-ddfdbc4e026d",
   "metadata": {},
   "outputs": [],
   "source": [
    "seq = [1, 2, 3, 4, 5]"
   ]
  },
  {
   "cell_type": "code",
   "execution_count": 16,
   "id": "16bab74d-9e5e-4cfe-b684-0e3f51e99ee5",
   "metadata": {},
   "outputs": [
    {
     "ename": "NameError",
     "evalue": "name 'times2' is not defined",
     "output_type": "error",
     "traceback": [
      "\u001b[0;31m---------------------------------------------------------------------------\u001b[0m",
      "\u001b[0;31mNameError\u001b[0m                                 Traceback (most recent call last)",
      "Cell \u001b[0;32mIn[16], line 1\u001b[0m\n\u001b[0;32m----> 1\u001b[0m \u001b[38;5;28mlist\u001b[39m(\u001b[38;5;28mmap\u001b[39m(times2, seq))\n",
      "\u001b[0;31mNameError\u001b[0m: name 'times2' is not defined"
     ]
    }
   ],
   "source": [
    "list(map(times2, seq))"
   ]
  },
  {
   "cell_type": "code",
   "execution_count": null,
   "id": "5b632b4b-1ef9-4e08-827a-ec27f10f1825",
   "metadata": {},
   "outputs": [],
   "source": []
  }
 ],
 "metadata": {
  "kernelspec": {
   "display_name": "Python 3 (ipykernel)",
   "language": "python",
   "name": "python3"
  },
  "language_info": {
   "codemirror_mode": {
    "name": "ipython",
    "version": 3
   },
   "file_extension": ".py",
   "mimetype": "text/x-python",
   "name": "python",
   "nbconvert_exporter": "python",
   "pygments_lexer": "ipython3",
   "version": "3.12.7"
  }
 },
 "nbformat": 4,
 "nbformat_minor": 5
}
